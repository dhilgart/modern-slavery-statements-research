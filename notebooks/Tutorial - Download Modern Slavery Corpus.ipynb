{
 "cells": [
  {
   "cell_type": "markdown",
   "metadata": {},
   "source": [
    "# Download the Modern Slavery Dataset"
   ]
  },
  {
   "cell_type": "code",
   "execution_count": 65,
   "metadata": {},
   "outputs": [],
   "source": [
    "# Run only once\n",
    "# !pip install modern-slavery-statements-research\n",
    "# !pip install pandas\n",
    "# !pip install numpy\n",
    "# !pip install matplotlib"
   ]
  },
  {
   "cell_type": "code",
   "execution_count": 66,
   "metadata": {},
   "outputs": [],
   "source": [
    "import numpy\n",
    "import pandas\n",
    "import matplotlib.pyplot as plt"
   ]
  },
  {
   "cell_type": "markdown",
   "metadata": {},
   "source": [
    "## Option 1 - Download the CSV"
   ]
  },
  {
   "cell_type": "markdown",
   "metadata": {},
   "source": [
    "You need to enter your personal access credentials below, **without the curly brackets** and without quotation marks."
   ]
  },
  {
   "cell_type": "code",
   "execution_count": null,
   "metadata": {},
   "outputs": [],
   "source": [
    "!download-corpus -i {Your Access key ID} -a {Your Secret access key}"
   ]
  },
  {
   "cell_type": "code",
   "execution_count": 67,
   "metadata": {},
   "outputs": [],
   "source": [
    "df_csv = pandas.read_csv('data/modern_slavery_dataset.csv')"
   ]
  },
  {
   "cell_type": "code",
   "execution_count": 68,
   "metadata": {},
   "outputs": [
    {
     "name": "stdout",
     "output_type": "stream",
     "text": [
      "<class 'pandas.core.frame.DataFrame'>\n",
      "RangeIndex: 28417 entries, 0 to 28416\n",
      "Data columns (total 15 columns):\n",
      " #   Column                                        Non-Null Count  Dtype  \n",
      "---  ------                                        --------------  -----  \n",
      " 0   Company ID                                    28417 non-null  int64  \n",
      " 1   Company                                       27528 non-null  object \n",
      " 2   Is Publisher                                  27528 non-null  object \n",
      " 3   Statement ID                                  27528 non-null  float64\n",
      " 4   URL                                           28417 non-null  object \n",
      " 5   Override URL                                  18 non-null     object \n",
      " 6   Companies House Number                        21887 non-null  object \n",
      " 7   Industry                                      27528 non-null  object \n",
      " 8   HQ                                            27528 non-null  object \n",
      " 9   Is Also Covered                               27528 non-null  object \n",
      " 10  UK Modern Slavery Act                         27528 non-null  object \n",
      " 11  California Transparency in Supply Chains Act  27528 non-null  object \n",
      " 12  Australia Modern Slavery Act                  27528 non-null  object \n",
      " 13  Period Covered                                26865 non-null  object \n",
      " 14  Text                                          18622 non-null  object \n",
      "dtypes: float64(1), int64(1), object(13)\n",
      "memory usage: 3.3+ MB\n"
     ]
    }
   ],
   "source": [
    "df_csv.info()"
   ]
  },
  {
   "cell_type": "code",
   "execution_count": 69,
   "metadata": {},
   "outputs": [
    {
     "data": {
      "text/html": [
       "<div>\n",
       "<style scoped>\n",
       "    .dataframe tbody tr th:only-of-type {\n",
       "        vertical-align: middle;\n",
       "    }\n",
       "\n",
       "    .dataframe tbody tr th {\n",
       "        vertical-align: top;\n",
       "    }\n",
       "\n",
       "    .dataframe thead th {\n",
       "        text-align: right;\n",
       "    }\n",
       "</style>\n",
       "<table border=\"1\" class=\"dataframe\">\n",
       "  <thead>\n",
       "    <tr style=\"text-align: right;\">\n",
       "      <th></th>\n",
       "      <th>Company ID</th>\n",
       "      <th>Company</th>\n",
       "      <th>Is Publisher</th>\n",
       "      <th>Statement ID</th>\n",
       "      <th>URL</th>\n",
       "      <th>Override URL</th>\n",
       "      <th>Companies House Number</th>\n",
       "      <th>Industry</th>\n",
       "      <th>HQ</th>\n",
       "      <th>Is Also Covered</th>\n",
       "      <th>UK Modern Slavery Act</th>\n",
       "      <th>California Transparency in Supply Chains Act</th>\n",
       "      <th>Australia Modern Slavery Act</th>\n",
       "      <th>Period Covered</th>\n",
       "      <th>Text</th>\n",
       "    </tr>\n",
       "  </thead>\n",
       "  <tbody>\n",
       "    <tr>\n",
       "      <th>0</th>\n",
       "      <td>7676</td>\n",
       "      <td>\"K\" Line Holding Europe Limited</td>\n",
       "      <td>True</td>\n",
       "      <td>35092.0</td>\n",
       "      <td>https://img1.wsimg.com/blobby/go/7695baff-3f0f...</td>\n",
       "      <td>NaN</td>\n",
       "      <td>05005018</td>\n",
       "      <td>Marine</td>\n",
       "      <td>United Kingdom</td>\n",
       "      <td>False</td>\n",
       "      <td>True</td>\n",
       "      <td>False</td>\n",
       "      <td>False</td>\n",
       "      <td>2018-2019</td>\n",
       "      <td>K LINE\\nHOLDINC (EUROPE) LTD.\\nModern Slavery ...</td>\n",
       "    </tr>\n",
       "    <tr>\n",
       "      <th>1</th>\n",
       "      <td>28660</td>\n",
       "      <td>\"K\" Line Bulk Shipping (UK) Limited</td>\n",
       "      <td>False</td>\n",
       "      <td>35092.0</td>\n",
       "      <td>https://img1.wsimg.com/blobby/go/7695baff-3f0f...</td>\n",
       "      <td>NaN</td>\n",
       "      <td>04830352</td>\n",
       "      <td>Marine</td>\n",
       "      <td>United Kingdom</td>\n",
       "      <td>True</td>\n",
       "      <td>True</td>\n",
       "      <td>False</td>\n",
       "      <td>False</td>\n",
       "      <td>2018-2019</td>\n",
       "      <td>K LINE\\nHOLDINC (EUROPE) LTD.\\nModern Slavery ...</td>\n",
       "    </tr>\n",
       "    <tr>\n",
       "      <th>2</th>\n",
       "      <td>28659</td>\n",
       "      <td>\"K\" Line (Europe) Limited</td>\n",
       "      <td>False</td>\n",
       "      <td>35092.0</td>\n",
       "      <td>https://img1.wsimg.com/blobby/go/7695baff-3f0f...</td>\n",
       "      <td>NaN</td>\n",
       "      <td>05639474</td>\n",
       "      <td>Marine</td>\n",
       "      <td>United Kingdom</td>\n",
       "      <td>True</td>\n",
       "      <td>True</td>\n",
       "      <td>False</td>\n",
       "      <td>False</td>\n",
       "      <td>2018-2019</td>\n",
       "      <td>K LINE\\nHOLDINC (EUROPE) LTD.\\nModern Slavery ...</td>\n",
       "    </tr>\n",
       "    <tr>\n",
       "      <th>3</th>\n",
       "      <td>28661</td>\n",
       "      <td>\"K\" Line LNG Shipping Limited</td>\n",
       "      <td>False</td>\n",
       "      <td>35092.0</td>\n",
       "      <td>https://img1.wsimg.com/blobby/go/7695baff-3f0f...</td>\n",
       "      <td>NaN</td>\n",
       "      <td>NaN</td>\n",
       "      <td>Marine</td>\n",
       "      <td>United Kingdom</td>\n",
       "      <td>True</td>\n",
       "      <td>True</td>\n",
       "      <td>False</td>\n",
       "      <td>False</td>\n",
       "      <td>2018-2019</td>\n",
       "      <td>K LINE\\nHOLDINC (EUROPE) LTD.\\nModern Slavery ...</td>\n",
       "    </tr>\n",
       "    <tr>\n",
       "      <th>4</th>\n",
       "      <td>28658</td>\n",
       "      <td>Polar LNG Shipping (UK) Limited</td>\n",
       "      <td>False</td>\n",
       "      <td>35092.0</td>\n",
       "      <td>https://img1.wsimg.com/blobby/go/7695baff-3f0f...</td>\n",
       "      <td>NaN</td>\n",
       "      <td>02205323</td>\n",
       "      <td>Marine</td>\n",
       "      <td>United Kingdom</td>\n",
       "      <td>True</td>\n",
       "      <td>True</td>\n",
       "      <td>False</td>\n",
       "      <td>False</td>\n",
       "      <td>2018-2019</td>\n",
       "      <td>K LINE\\nHOLDINC (EUROPE) LTD.\\nModern Slavery ...</td>\n",
       "    </tr>\n",
       "  </tbody>\n",
       "</table>\n",
       "</div>"
      ],
      "text/plain": [
       "   Company ID                              Company Is Publisher  Statement ID  \\\n",
       "0        7676      \"K\" Line Holding Europe Limited         True       35092.0   \n",
       "1       28660  \"K\" Line Bulk Shipping (UK) Limited        False       35092.0   \n",
       "2       28659            \"K\" Line (Europe) Limited        False       35092.0   \n",
       "3       28661        \"K\" Line LNG Shipping Limited        False       35092.0   \n",
       "4       28658      Polar LNG Shipping (UK) Limited        False       35092.0   \n",
       "\n",
       "                                                 URL Override URL  \\\n",
       "0  https://img1.wsimg.com/blobby/go/7695baff-3f0f...          NaN   \n",
       "1  https://img1.wsimg.com/blobby/go/7695baff-3f0f...          NaN   \n",
       "2  https://img1.wsimg.com/blobby/go/7695baff-3f0f...          NaN   \n",
       "3  https://img1.wsimg.com/blobby/go/7695baff-3f0f...          NaN   \n",
       "4  https://img1.wsimg.com/blobby/go/7695baff-3f0f...          NaN   \n",
       "\n",
       "  Companies House Number Industry              HQ Is Also Covered  \\\n",
       "0               05005018   Marine  United Kingdom           False   \n",
       "1               04830352   Marine  United Kingdom            True   \n",
       "2               05639474   Marine  United Kingdom            True   \n",
       "3                    NaN   Marine  United Kingdom            True   \n",
       "4               02205323   Marine  United Kingdom            True   \n",
       "\n",
       "  UK Modern Slavery Act California Transparency in Supply Chains Act  \\\n",
       "0                  True                                        False   \n",
       "1                  True                                        False   \n",
       "2                  True                                        False   \n",
       "3                  True                                        False   \n",
       "4                  True                                        False   \n",
       "\n",
       "  Australia Modern Slavery Act Period Covered  \\\n",
       "0                        False      2018-2019   \n",
       "1                        False      2018-2019   \n",
       "2                        False      2018-2019   \n",
       "3                        False      2018-2019   \n",
       "4                        False      2018-2019   \n",
       "\n",
       "                                                Text  \n",
       "0  K LINE\\nHOLDINC (EUROPE) LTD.\\nModern Slavery ...  \n",
       "1  K LINE\\nHOLDINC (EUROPE) LTD.\\nModern Slavery ...  \n",
       "2  K LINE\\nHOLDINC (EUROPE) LTD.\\nModern Slavery ...  \n",
       "3  K LINE\\nHOLDINC (EUROPE) LTD.\\nModern Slavery ...  \n",
       "4  K LINE\\nHOLDINC (EUROPE) LTD.\\nModern Slavery ...  "
      ]
     },
     "execution_count": 69,
     "metadata": {},
     "output_type": "execute_result"
    }
   ],
   "source": [
    "df_csv.head()"
   ]
  },
  {
   "cell_type": "markdown",
   "metadata": {},
   "source": [
    "## Option 2 - Download in JSON format."
   ]
  },
  {
   "cell_type": "markdown",
   "metadata": {},
   "source": [
    "You need to enter your personal access credentials below, **without the curly brackets** and without quotation marks."
   ]
  },
  {
   "cell_type": "code",
   "execution_count": null,
   "metadata": {},
   "outputs": [],
   "source": [
    "!download-corpus -i {Your Access key ID} -a {Your Secret access key} --json"
   ]
  },
  {
   "cell_type": "code",
   "execution_count": 70,
   "metadata": {},
   "outputs": [],
   "source": [
    "df_json = pandas.read_json('data/modern_slavery_dataset.json')"
   ]
  },
  {
   "cell_type": "code",
   "execution_count": 71,
   "metadata": {},
   "outputs": [
    {
     "name": "stdout",
     "output_type": "stream",
     "text": [
      "<class 'pandas.core.frame.DataFrame'>\n",
      "Int64Index: 28417 entries, 0 to 28416\n",
      "Data columns (total 15 columns):\n",
      " #   Column                                        Non-Null Count  Dtype  \n",
      "---  ------                                        --------------  -----  \n",
      " 0   Company ID                                    28417 non-null  int64  \n",
      " 1   Company                                       27528 non-null  object \n",
      " 2   Is Publisher                                  27528 non-null  object \n",
      " 3   Statement ID                                  27528 non-null  float64\n",
      " 4   URL                                           28417 non-null  object \n",
      " 5   Override URL                                  18 non-null     object \n",
      " 6   Companies House Number                        21887 non-null  object \n",
      " 7   Industry                                      27528 non-null  object \n",
      " 8   HQ                                            27528 non-null  object \n",
      " 9   Is Also Covered                               27528 non-null  object \n",
      " 10  UK Modern Slavery Act                         27528 non-null  object \n",
      " 11  California Transparency in Supply Chains Act  27528 non-null  object \n",
      " 12  Australia Modern Slavery Act                  27528 non-null  object \n",
      " 13  Period Covered                                26865 non-null  object \n",
      " 14  Text                                          19504 non-null  object \n",
      "dtypes: float64(1), int64(1), object(13)\n",
      "memory usage: 3.5+ MB\n"
     ]
    }
   ],
   "source": [
    "df_json.info()"
   ]
  },
  {
   "cell_type": "code",
   "execution_count": 72,
   "metadata": {},
   "outputs": [
    {
     "data": {
      "text/html": [
       "<div>\n",
       "<style scoped>\n",
       "    .dataframe tbody tr th:only-of-type {\n",
       "        vertical-align: middle;\n",
       "    }\n",
       "\n",
       "    .dataframe tbody tr th {\n",
       "        vertical-align: top;\n",
       "    }\n",
       "\n",
       "    .dataframe thead th {\n",
       "        text-align: right;\n",
       "    }\n",
       "</style>\n",
       "<table border=\"1\" class=\"dataframe\">\n",
       "  <thead>\n",
       "    <tr style=\"text-align: right;\">\n",
       "      <th></th>\n",
       "      <th>Company ID</th>\n",
       "      <th>Company</th>\n",
       "      <th>Is Publisher</th>\n",
       "      <th>Statement ID</th>\n",
       "      <th>URL</th>\n",
       "      <th>Override URL</th>\n",
       "      <th>Companies House Number</th>\n",
       "      <th>Industry</th>\n",
       "      <th>HQ</th>\n",
       "      <th>Is Also Covered</th>\n",
       "      <th>UK Modern Slavery Act</th>\n",
       "      <th>California Transparency in Supply Chains Act</th>\n",
       "      <th>Australia Modern Slavery Act</th>\n",
       "      <th>Period Covered</th>\n",
       "      <th>Text</th>\n",
       "    </tr>\n",
       "  </thead>\n",
       "  <tbody>\n",
       "    <tr>\n",
       "      <th>0</th>\n",
       "      <td>7676</td>\n",
       "      <td>\"K\" Line Holding Europe Limited</td>\n",
       "      <td>true</td>\n",
       "      <td>35092.0</td>\n",
       "      <td>https://img1.wsimg.com/blobby/go/7695baff-3f0f...</td>\n",
       "      <td>None</td>\n",
       "      <td>05005018</td>\n",
       "      <td>Marine</td>\n",
       "      <td>United Kingdom</td>\n",
       "      <td>false</td>\n",
       "      <td>true</td>\n",
       "      <td>false</td>\n",
       "      <td>false</td>\n",
       "      <td>2018-2019</td>\n",
       "      <td>K LINE\\nHOLDINC (EUROPE) LTD.\\nModern Slavery ...</td>\n",
       "    </tr>\n",
       "    <tr>\n",
       "      <th>1</th>\n",
       "      <td>28660</td>\n",
       "      <td>\"K\" Line Bulk Shipping (UK) Limited</td>\n",
       "      <td>false</td>\n",
       "      <td>35092.0</td>\n",
       "      <td>https://img1.wsimg.com/blobby/go/7695baff-3f0f...</td>\n",
       "      <td>None</td>\n",
       "      <td>04830352</td>\n",
       "      <td>Marine</td>\n",
       "      <td>United Kingdom</td>\n",
       "      <td>true</td>\n",
       "      <td>true</td>\n",
       "      <td>false</td>\n",
       "      <td>false</td>\n",
       "      <td>2018-2019</td>\n",
       "      <td>K LINE\\nHOLDINC (EUROPE) LTD.\\nModern Slavery ...</td>\n",
       "    </tr>\n",
       "    <tr>\n",
       "      <th>2</th>\n",
       "      <td>28659</td>\n",
       "      <td>\"K\" Line (Europe) Limited</td>\n",
       "      <td>false</td>\n",
       "      <td>35092.0</td>\n",
       "      <td>https://img1.wsimg.com/blobby/go/7695baff-3f0f...</td>\n",
       "      <td>None</td>\n",
       "      <td>05639474</td>\n",
       "      <td>Marine</td>\n",
       "      <td>United Kingdom</td>\n",
       "      <td>true</td>\n",
       "      <td>true</td>\n",
       "      <td>false</td>\n",
       "      <td>false</td>\n",
       "      <td>2018-2019</td>\n",
       "      <td>K LINE\\nHOLDINC (EUROPE) LTD.\\nModern Slavery ...</td>\n",
       "    </tr>\n",
       "    <tr>\n",
       "      <th>3</th>\n",
       "      <td>28661</td>\n",
       "      <td>\"K\" Line LNG Shipping Limited</td>\n",
       "      <td>false</td>\n",
       "      <td>35092.0</td>\n",
       "      <td>https://img1.wsimg.com/blobby/go/7695baff-3f0f...</td>\n",
       "      <td>None</td>\n",
       "      <td>None</td>\n",
       "      <td>Marine</td>\n",
       "      <td>United Kingdom</td>\n",
       "      <td>true</td>\n",
       "      <td>true</td>\n",
       "      <td>false</td>\n",
       "      <td>false</td>\n",
       "      <td>2018-2019</td>\n",
       "      <td>K LINE\\nHOLDINC (EUROPE) LTD.\\nModern Slavery ...</td>\n",
       "    </tr>\n",
       "    <tr>\n",
       "      <th>4</th>\n",
       "      <td>28658</td>\n",
       "      <td>Polar LNG Shipping (UK) Limited</td>\n",
       "      <td>false</td>\n",
       "      <td>35092.0</td>\n",
       "      <td>https://img1.wsimg.com/blobby/go/7695baff-3f0f...</td>\n",
       "      <td>None</td>\n",
       "      <td>02205323</td>\n",
       "      <td>Marine</td>\n",
       "      <td>United Kingdom</td>\n",
       "      <td>true</td>\n",
       "      <td>true</td>\n",
       "      <td>false</td>\n",
       "      <td>false</td>\n",
       "      <td>2018-2019</td>\n",
       "      <td>K LINE\\nHOLDINC (EUROPE) LTD.\\nModern Slavery ...</td>\n",
       "    </tr>\n",
       "  </tbody>\n",
       "</table>\n",
       "</div>"
      ],
      "text/plain": [
       "   Company ID                              Company Is Publisher  Statement ID  \\\n",
       "0        7676      \"K\" Line Holding Europe Limited         true       35092.0   \n",
       "1       28660  \"K\" Line Bulk Shipping (UK) Limited        false       35092.0   \n",
       "2       28659            \"K\" Line (Europe) Limited        false       35092.0   \n",
       "3       28661        \"K\" Line LNG Shipping Limited        false       35092.0   \n",
       "4       28658      Polar LNG Shipping (UK) Limited        false       35092.0   \n",
       "\n",
       "                                                 URL Override URL  \\\n",
       "0  https://img1.wsimg.com/blobby/go/7695baff-3f0f...         None   \n",
       "1  https://img1.wsimg.com/blobby/go/7695baff-3f0f...         None   \n",
       "2  https://img1.wsimg.com/blobby/go/7695baff-3f0f...         None   \n",
       "3  https://img1.wsimg.com/blobby/go/7695baff-3f0f...         None   \n",
       "4  https://img1.wsimg.com/blobby/go/7695baff-3f0f...         None   \n",
       "\n",
       "  Companies House Number Industry              HQ Is Also Covered  \\\n",
       "0               05005018   Marine  United Kingdom           false   \n",
       "1               04830352   Marine  United Kingdom            true   \n",
       "2               05639474   Marine  United Kingdom            true   \n",
       "3                   None   Marine  United Kingdom            true   \n",
       "4               02205323   Marine  United Kingdom            true   \n",
       "\n",
       "  UK Modern Slavery Act California Transparency in Supply Chains Act  \\\n",
       "0                  true                                        false   \n",
       "1                  true                                        false   \n",
       "2                  true                                        false   \n",
       "3                  true                                        false   \n",
       "4                  true                                        false   \n",
       "\n",
       "  Australia Modern Slavery Act Period Covered  \\\n",
       "0                        false      2018-2019   \n",
       "1                        false      2018-2019   \n",
       "2                        false      2018-2019   \n",
       "3                        false      2018-2019   \n",
       "4                        false      2018-2019   \n",
       "\n",
       "                                                Text  \n",
       "0  K LINE\\nHOLDINC (EUROPE) LTD.\\nModern Slavery ...  \n",
       "1  K LINE\\nHOLDINC (EUROPE) LTD.\\nModern Slavery ...  \n",
       "2  K LINE\\nHOLDINC (EUROPE) LTD.\\nModern Slavery ...  \n",
       "3  K LINE\\nHOLDINC (EUROPE) LTD.\\nModern Slavery ...  \n",
       "4  K LINE\\nHOLDINC (EUROPE) LTD.\\nModern Slavery ...  "
      ]
     },
     "execution_count": 72,
     "metadata": {},
     "output_type": "execute_result"
    }
   ],
   "source": [
    "df_json.head()"
   ]
  },
  {
   "cell_type": "code",
   "execution_count": null,
   "metadata": {},
   "outputs": [],
   "source": []
  },
  {
   "cell_type": "markdown",
   "metadata": {},
   "source": [
    "## Compute Word Count Distribution"
   ]
  },
  {
   "cell_type": "code",
   "execution_count": 75,
   "metadata": {},
   "outputs": [],
   "source": [
    "# Select unique texts that are not NaN\n",
    "unique_texts = df_csv[pandas.isna(df_csv['Text'])==False].Text.unique()"
   ]
  },
  {
   "cell_type": "code",
   "execution_count": 79,
   "metadata": {
    "scrolled": true
   },
   "outputs": [
    {
     "name": "stdout",
     "output_type": "stream",
     "text": [
      "K LINE\n",
      "HOLDINC (EUROPE) LTD.\n",
      "Modern Slavery Act Transparency Statement\n",
      "Published: 22 March 2019\n",
      "The UK Modern Slavery Act 2015 requires large entities carrying on a business in the UK to publish a\n",
      "statement detailing their efforts (if any) to combat human trafficking and modern-day slavery. This statement\n",
      "relates to actions and activities during the financial year 1 April 2018 to 31 March 2019.\n",
      "As part of the shipping industry, \"K\" Line Group recognizes that it has a responsibility to take a robust\n",
      "approach to slavery and human trafficking.\n",
      "\"K\" Line Group is absolutely committed to preventing slavery and human trafficking in its corporate activities,\n",
      "and to ensuring that its supply chains are free from slavery and human trafficking.\n",
      "Organizational structure and activities\n",
      "The \"K\" Line Group is a global shipping entity headquartered in Tokyo, Japan but with a network of offices\n",
      "around the globe including the United Kingdom. The UK Group comprises \"K\" Holding (Europe) Ltd, \"K\" Line\n",
      "(Europe) Ltd, \"K\" Line Bulk Shipping (UK) Ltd, \"K\" Line LNG Shipping Ltd and Polar LNG Shipping (UK) Ltd.\n",
      "\"K\" Line Group's UK business units' activities include Car carrier, Dry Bulk and LNG shipping, management\n",
      "Training and relevant policies\n",
      "\"K\" Line Group companies adhere to a Charter of Conduct which emphasizes due respect to Human rights\n",
      "and compliance with applicable laws, ordinances and rules. \"K\" Line abides by all labour laws and regulations\n",
      "and does not tolerate child labour or forced labour. Our Charter of Conduct is presented to new staff as part of\n",
      "The full Charter of Conduct can be viewed here:\n",
      "ttps:llww.kline.co.jplenlcsrigrouplcharterhtml\n",
      "Whistleblowing policy\n",
      "The organization encourages all its workers, customers and other business partners to report any concerns\n",
      "related to the direct activities, or the supply chains of the organization This includes any circumstances that\n",
      "may give rise to an enhanced risk of slavery or human trafficking. The organization's whistleblowing\n",
      "procedure is designed to make it easy for workers to make disclosures, without fear of retaliation.\n",
      "Managing some parts of our supply chain carries inherent risks of adverse socia or environmental impact due\n",
      "to less direct oversight and control of their working conditions and recruiting practices These would include\n",
      "ships under construction or dismantling where employment conditions of subcontracted workers could present\n",
      "a risk, as does the use of third-party manning and crewing agencies for our shipping businesses. In both\n",
      "situations the use of on-site visits, audit type process and formalized assessments is employed. In addition,\n",
      "the type of ships directly managed (LNG) are relatively sophisticated, and as a sector, are less exposed to\n",
      "unsatisfactory labour practices.\n",
      "\"K\" Line Group has also developed Corporate Social Responsibility Guidelines for Supply Chain which details\n",
      "our requirements for suppliers, including adherence to abolition of forced and child labour.\n",
      "The Guidelines can be found here:\n",
      "luosliwwwkinecoplencsiegoupsupoichaincsaicelnelnandliNcsr Guidelines for Supply Chain.p\n",
      "Awareness-raising programme\n",
      "\"K\" Line Group has raised awareness of modern slavery issues by putting up posters across the\n",
      "organization's premises.\n",
      "The posters explain to staff:\n",
      "the basic principles of the Modern Slavery Act 2015;\n",
      "What external help is available, for example through the Modern Slavery Helpline?\n",
      "It should also be noted that a transportation group such as \"K\" Line Group must already ensure that their\n",
      "vessels are not used for illegal purposes including people trafficking. As part of this we engage with third party\n",
      "contractors and suppliers to ensure they have procedures in place to protect against illegal activity such a\n",
      "anfo\n",
      "Managing Director\n",
      "\"K\" Line Holding (Europe) Ltd.\n",
      "\"K\"' Line Holding (Europe) Limited\n",
      "6th Floor\n",
      "200 Aldersgate Street\n",
      "London ECIA 4HD\n",
      "Tel:\n",
      "020 7382 6500\n",
      "E-mail: :keulongen@uk.kline.com\n",
      "www.klineurope.com\n",
      "Registered Office: 6th Floor\n",
      "200 Aldersgate Street London EC1A 4HD\n",
      "Company Registered in England No, 5005018\n",
      "and operations.\n",
      "Charter of Conduct\n",
      "their training.\n",
      "Due diligence\n",
      "df\n",
      "human trafficking.\n",
      "Mr. Akira Misaki\n",
      "22nd March 2019\n"
     ]
    }
   ],
   "source": [
    "# First example\n",
    "print(unique_texts[0])"
   ]
  },
  {
   "cell_type": "code",
   "execution_count": 80,
   "metadata": {},
   "outputs": [],
   "source": [
    "# Calculate simple word count based on whitespace separation.\n",
    "word_counts = [len(text.split()) for text in unique_texts]"
   ]
  },
  {
   "cell_type": "code",
   "execution_count": 82,
   "metadata": {},
   "outputs": [
    {
     "data": {
      "image/png": "[encoded data removed]",
      "text/plain": [
       "<Figure size 432x288 with 1 Axes>"
      ]
     },
     "metadata": {
      "needs_background": "light"
     },
     "output_type": "display_data"
    }
   ],
   "source": [
    "# Plot the distribution\n",
    "fig, ax = plt.subplots()\n",
    "n, bins, patches = ax.hist(word_counts, bins=numpy.logspace(-1, numpy.log10(max(word_counts)), 500))\n",
    "ax.set_xlabel('Log of Word counts')\n",
    "ax.set_ylabel('Frequency')\n",
    "ax.set_title('Histogram of word counts of modern slavery statements')\n",
    "ax.set_xscale('log')\n",
    "plt.show()"
   ]
  },
  {
   "cell_type": "code",
   "execution_count": null,
   "metadata": {},
   "outputs": [],
   "source": []
  },
  {
   "cell_type": "code",
   "execution_count": null,
   "metadata": {},
   "outputs": [],
   "source": []
  }
 ],
 "metadata": {
  "kernelspec": {
   "display_name": "conda_python3",
   "language": "python",
   "name": "conda_python3"
  },
  "language_info": {
   "codemirror_mode": {
    "name": "ipython",
    "version": 3
   },
   "file_extension": ".py",
   "mimetype": "text/x-python",
   "name": "python",
   "nbconvert_exporter": "python",
   "pygments_lexer": "ipython3",
   "version": "3.6.10"
  }
 },
 "nbformat": 4,
 "nbformat_minor": 4
}
